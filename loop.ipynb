{
 "cells": [
  {
   "cell_type": "code",
   "execution_count": null,
   "metadata": {},
   "outputs": [],
   "source": [
    "l=[1,2,3,4]\n",
    "m=[3,4,5,6]\n",
    "z=l+m\n",
    "print(z)"
   ]
  },
  {
   "cell_type": "code",
   "execution_count": null,
   "metadata": {},
   "outputs": [],
   "source": [
    "for var in range(0,10):\n",
    "    print(var)"
   ]
  },
  {
   "cell_type": "code",
   "execution_count": null,
   "metadata": {},
   "outputs": [],
   "source": [
    "while False :\n",
    "    print(\"hello\")\n",
    "    print(\"bye\")"
   ]
  },
  {
   "cell_type": "code",
   "execution_count": null,
   "metadata": {},
   "outputs": [],
   "source": [
    "while True \n",
    "    print(\"hello\")\n",
    "    print(\"bye\")"
   ]
  },
  {
   "cell_type": "code",
   "execution_count": null,
   "metadata": {},
   "outputs": [],
   "source": [
    "i=1\n",
    "while (i<=10):\n",
    "    print(i)\n",
    "    i=i+1"
   ]
  },
  {
   "cell_type": "code",
   "execution_count": null,
   "metadata": {},
   "outputs": [],
   "source": [
    "p=5\n",
    "j=1\n",
    "while(p<=50 and j<=10):\n",
    "    print(p,\"*\",j,\"=\",p*j)\n",
    "    #p=p+5\n",
    "    j=j+1"
   ]
  },
  {
   "cell_type": "code",
   "execution_count": null,
   "metadata": {},
   "outputs": [],
   "source": [
    "num=int(input(\"enter a no:\"))\n",
    "count=1\n",
    "while count<=10:\n",
    "    print(f\"{num:<5}*{count:<5}={num*count}\")\n",
    "    count +=1"
   ]
  },
  {
   "cell_type": "code",
   "execution_count": null,
   "metadata": {},
   "outputs": [],
   "source": [
    "z=100\n",
    "while z >=1:\n",
    "    print(z,end=\",\")\n",
    "    z=z-2\n",
    "else:\n",
    "    print()"
   ]
  },
  {
   "cell_type": "code",
   "execution_count": null,
   "metadata": {},
   "outputs": [],
   "source": [
    "z=99\n",
    "while z >=1:\n",
    "    print(z,end=\",\")\n",
    "    z=z-2"
   ]
  },
  {
   "cell_type": "code",
   "execution_count": null,
   "metadata": {},
   "outputs": [],
   "source": [
    "z=1\n",
    "while z <=100:\n",
    "    if ((z % 5 ==0) or (z % 7 == 0)):\n",
    "        print(z,end=\",\")\n",
    "    z=z+1\n",
    "else:\n",
    "    print()"
   ]
  },
  {
   "cell_type": "code",
   "execution_count": null,
   "metadata": {},
   "outputs": [],
   "source": [
    "z=1\n",
    "while z <=100:\n",
    "    if ((z % 5 ==0) and (z % 7 == 0)):\n",
    "        print(z,end=\",\")\n",
    "    z=z+1\n",
    "else:\n",
    "    print()"
   ]
  },
  {
   "cell_type": "code",
   "execution_count": null,
   "metadata": {},
   "outputs": [],
   "source": [
    "from random import randint\n",
    "c=1\n",
    "while c<=10:\n",
    "    print(randint(1,100),end=\",\")\n",
    "    c=c+1"
   ]
  },
  {
   "cell_type": "code",
   "execution_count": null,
   "metadata": {},
   "outputs": [],
   "source": [
    "x=int(input(\"enter a number:\"))\n",
    "while x<=50:\n",
    "    if x>=50:\n",
    "        print(int(input(x)))\n",
    "    else:\n",
    "        break\n",
    "        print(\"bye\")"
   ]
  },
  {
   "cell_type": "code",
   "execution_count": null,
   "metadata": {},
   "outputs": [],
   "source": [
    "while True:\n",
    "    m=int(input(\"enter a num:\"))\n",
    "    if m>=1 and m<=50:\n",
    "        print(\"hello\")\n",
    "    else :\n",
    "        break\n",
    "        print()"
   ]
  },
  {
   "cell_type": "markdown",
   "metadata": {},
   "source": [
    "while c<=10:\n",
    "    print(c,end=\",\")\n",
    "    c=c+1\n",
    "    "
   ]
  },
  {
   "cell_type": "code",
   "execution_count": null,
   "metadata": {},
   "outputs": [],
   "source": [
    "c=1\n",
    "while c<=10:\n",
    "    if c%2==0:\n",
    "        print(c)\n",
    "        c=c+1\n",
    "    else :\n",
    "        c=c+1\n",
    "        continue"
   ]
  },
  {
   "cell_type": "code",
   "execution_count": 1,
   "metadata": {},
   "outputs": [
    {
     "ename": "IndentationError",
     "evalue": "unindent does not match any outer indentation level (<tokenize>, line 7)",
     "output_type": "error",
     "traceback": [
      "\u001b[1;36m  File \u001b[1;32m\"<tokenize>\"\u001b[1;36m, line \u001b[1;32m7\u001b[0m\n\u001b[1;33m    if i==z:\u001b[0m\n\u001b[1;37m    ^\u001b[0m\n\u001b[1;31mIndentationError\u001b[0m\u001b[1;31m:\u001b[0m unindent does not match any outer indentation level\n"
     ]
    }
   ],
   "source": [
    "from random import randint\n",
    "   ch=0\n",
    "    z=0\n",
    "i=int(input(\"enter a number:\"))\n",
    "while ch<=5\n",
    "     print(randint(1,100),end=\",\")\n",
    "    if i==z:\n",
    "        print(\"your number is:\",z)\n",
    "    else:\n",
    "        print(\"worng number\")\n",
    "        "
   ]
  }
 ],
 "metadata": {
  "kernelspec": {
   "display_name": "Python 3",
   "language": "python",
   "name": "python3"
  },
  "language_info": {
   "codemirror_mode": {
    "name": "ipython",
    "version": 3
   },
   "file_extension": ".py",
   "mimetype": "text/x-python",
   "name": "python",
   "nbconvert_exporter": "python",
   "pygments_lexer": "ipython3",
   "version": "3.6.4"
  }
 },
 "nbformat": 4,
 "nbformat_minor": 2
}
